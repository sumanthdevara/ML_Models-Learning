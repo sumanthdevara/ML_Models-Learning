{
 "cells": [
  {
   "cell_type": "markdown",
   "metadata": {},
   "source": [
    "## List of machine learning models categorized by regression, classification, and unsupervised learning tasks.\n",
    "##### Ensemble Learning Models/ Regression\n",
    "1. [LinearRegression](#LinearRegression) - [Infrences-LinearRegression](#Infrences-LinearRegression) - [ModelTesting-LinearRegression](#ModelTesting-LinearRegression)\n",
    "   - Linear Regression: A linear model used for predicting a continuous target variable based on one or more input features. It assumes a linear relationship between the features and the target variable.\n",
    "\n",
    "2. [DecisionTrees](#DecisionTrees) - [Infrences-DecisionTree](#Infrences-DecisionTree) - [ModelTesting-DecisionTree](#ModelTesting-DecisionTree)\n",
    "   - Decision Trees: A tree-like structure where internal nodes represent features, branches represent decisions, and leaf nodes represent the target variable. Decision trees can be used for both regression and classification tasks.\n",
    "3. [RandomForest](#RandomForest) - [Infrences-RandomForest](#Infrences-RandomForest) - [ModelTesting-RandomForest](#ModelTesting-RandomForest)\n",
    "   - Random Forest: An ensemble learning method that constructs multiple decision trees during training and outputs the mean prediction of the individual trees for regression tasks.\n",
    "4. [AdaBoost](#AdaBoost) - [Infrences-AdaBoost](#Infrences-AdaBoost) - [ModelTesting-AdaBoost](#ModelTesting-AdaBoost)\n",
    "   - AdaBoost: Adaptive Boosting (AdaBoost) is an ensemble learning method that combines multiple weak learners to create a strong learner. It focuses on training instances that are hard to classify.\n",
    "5. [GradientBoosting](#GradientBoosting) - [Infrences-GradientBoosting](#Infrences-GradientBoosting) - [ModelTesting-GradientBoosting](#ModelTesting-GradientBoosting)\n",
    "   - Gradient Boosting: Gradient Boosting is another ensemble learning technique that builds decision trees sequentially, where each tree corrects the errors made by the previous one. It typically uses shallow decision trees as base learners.\n",
    "6. [XGBoost](#XGBoost) - [Infrences-XGBoost](#Infrences-XGBoost) - [ModelTesting-XGBoost](#ModelTesting-XGBoost)\n",
    "   - XGBoost: Extreme Gradient Boosting (XGBoost) is an optimized and efficient implementation of gradient boosting. It is widely used in machine learning competitions and real-world applications due to its speed and performance.\n",
    "\n",
    "##### Classification Models\n",
    "7. [LogisticRegression](#LogisticRegression) - [Infrences-LogisticRegression](#Infrences-LogisticRegression) - [ModelTesting-LogisticRegression](#ModelTesting-LogisticRegression)\n",
    "   - Logistic Regression: A linear model used for binary classification tasks. It estimates the probability that a given input belongs to a particular class.\n",
    "8. [SupportVectorMachines](#SupportVectorMachines) - [Infrences-SupportVectorMachines](#Infrences-SupportVectorMachines) - [ModelTesting-SupportVectorMachines](#ModelTesting-SupportVectorMachines)\n",
    "   - Support Vector Machines (SVM): A supervised learning algorithm used for classification tasks. SVM finds the hyperplane that best separates classes in a high-dimensional space.\n",
    "9. [KNearestNeighbors](#KNearestNeighbors) - [Infrences-KNearestNeighbors](#Infrences-KNearestNeighbors) - [ModelTesting-KNearestNeighbors](#ModelTesting-KNearestNeighbors)\n",
    "   - K-Nearest Neighbors (KNN): KNN is a simple and intuitive algorithm that classifies data points based on the majority class of their k nearest neighbors in the feature space.\n",
    "\n",
    "##### Unsupervised Learning Models\n",
    "10. [KMeans](#KMeans) - [Infrences-KMeans](#Infrences-KMeans) - [ModelTesting-KMeans](#ModelTesting-KMeans)\n",
    "    - K-Means: A clustering algorithm that partitions data into k clusters based on similarity or distance. It aims to minimize the within-cluster sum of squares.\n",
    "11. [CollaborativeFiltering](#CollaborativeFiltering) - [Infrences-CollaborativeFiltering](#Infrences-CollaborativeFiltering) - [ModelTesting-CollaborativeFiltering](#ModelTesting-CollaborativeFiltering)\n",
    "    - Collaborative Filtering: A technique used in recommendation systems to predict the preferences of users for items based on the preferences of similar users or items."
   ]
  },
  {
   "cell_type": "code",
   "execution_count": 1,
   "metadata": {},
   "outputs": [
    {
     "name": "stdout",
     "output_type": "stream",
     "text": [
      "   sepal length (cm)  sepal width (cm)  petal length (cm)  petal width (cm)  \\\n",
      "0                5.1               3.5                1.4               0.2   \n",
      "1                4.9               3.0                1.4               0.2   \n",
      "2                4.7               3.2                1.3               0.2   \n",
      "3                4.6               3.1                1.5               0.2   \n",
      "4                5.0               3.6                1.4               0.2   \n",
      "\n",
      "  species  \n",
      "0  Setosa  \n",
      "1  Setosa  \n",
      "2  Setosa  \n",
      "3  Setosa  \n",
      "4  Setosa  \n"
     ]
    }
   ],
   "source": [
    "from sklearn.datasets import load_iris\n",
    "import pandas as pd\n",
    "\n",
    "iris = load_iris()\n",
    "\n",
    "iris_df = pd.DataFrame(data=iris.data, columns=iris.feature_names)\n",
    "\n",
    "iris_df['species'] = iris.target\n",
    "iris_df['species'] = iris_df['species'].map({0: 'Setosa', 1: 'Versicolor', 2: 'Virginica'})\n",
    "\n",
    "print(iris_df.head())"
   ]
  },
  {
   "cell_type": "markdown",
   "metadata": {
    "tags": []
   },
   "source": [
    "## LinearRegression\n",
    "\n",
    "### Regression Model: Predicting 'petal width' using other features\n",
    "\n",
    "- Loaded the Iris dataset using scikit-learn and created a DataFrame from it.\n",
    "- Mapped the target variable 'species' to actual species names for better interpretation.\n",
    "- Defined the features ('sepal length (cm)', 'sepal width (cm)', 'petal length (cm)') and the target variable ('petal width (cm)').\n",
    "- Split the dataset into training and testing sets using `train_test_split()` from scikit-learn.\n",
    "- Initialized a Linear Regression model from scikit-learn.\n",
    "- Trained the model on the training data using `fit()` method.\n",
    "- Made predictions on the test set using `predict()` method.\n",
    "- Finally, calculated the Mean Squared Error (MSE) using `mean_squared_error()`, Mean Absolute Error (MAE) using `mean_absolute_error()`, and R-squared score (R2 score) using `r2_score()`."
   ]
  },
  {
   "cell_type": "code",
   "execution_count": 2,
   "metadata": {},
   "outputs": [],
   "source": [
    "features = ['sepal length (cm)', 'sepal width (cm)', 'petal length (cm)']\n",
    "target = ['petal width (cm)']\n",
    "\n",
    "X = iris_df.loc[:, features]\n",
    "y= iris_df.loc[:, target]"
   ]
  },
  {
   "cell_type": "code",
   "execution_count": 3,
   "metadata": {},
   "outputs": [
    {
     "name": "stdout",
     "output_type": "stream",
     "text": [
      "mean_squared_error = 0.03061916155580686\n",
      "mean_absolute_error = 0.13740554403607882\n",
      "r2_score = 0.9468945474746404\n",
      "\n"
     ]
    }
   ],
   "source": [
    "from sklearn.linear_model import LinearRegression\n",
    "from sklearn.model_selection import train_test_split\n",
    "from sklearn.metrics import mean_squared_error, mean_absolute_error, r2_score\n",
    "\n",
    "model1 = LinearRegression()\n",
    "\n",
    "X_train, X_test, y_train, y_test = train_test_split(X ,y , train_size= 0.7, random_state=11)\n",
    "\n",
    "model1.fit(X_train, y_train)\n",
    "\n",
    "y_pred = model1.predict(X_test)\n",
    "\n",
    "mse = mean_squared_error(y_test, y_pred)\n",
    "mae = mean_absolute_error(y_test, y_pred)\n",
    "r2 = r2_score(y_test, y_pred)\n",
    "\n",
    "print(\n",
    "    f\"mean_squared_error = {mse}\\n\"\n",
    "    f\"mean_absolute_error = {mae}\\n\"\n",
    "    f\"r2_score = {r2}\\n\"\n",
    ")"
   ]
  },
  {
   "cell_type": "markdown",
   "metadata": {},
   "source": [
    "## Infrences-LinearRegression\n",
    "- Mean Squared Error (MSE): The MSE measures the average squared difference between the actual values and the predicted values. A lower MSE indicates better model performance. The MSE is approximately 0.0306, which suggests that, on average, the squared difference between the actual and predicted petal widths is relatively small.\n",
    "\n",
    "- Mean Absolute Error (MAE): The MAE measures the average absolute difference between the actual values and the predicted values. Like MSE, a lower MAE indicates better model performance. The MAE value of approximately 0.1374 indicates that, on average, the absolute difference between the actual and predicted petal widths is relatively small.\n",
    "\n",
    "- R-squared (R²) Score: The R² score measures the proportion of the variance in the target variable (petal width) that is explained by the independent variables (sepal length, sepal width, and petal length) in the model. R² score ranges from 0 to 1, where 1 indicates perfect predictions. The R² score of approximately 0.9469 indicates that the model explains around 94.69% of the variance in the petal width, which is considered very high.\n",
    "\n",
    "Overall, the evaluation metrics suggest that the regression model performs well in predicting the petal width based on the given features (sepal length, sepal width, and petal length). However, it's still essential to validate the model's predictions with new data and ensure that it generalizes well to unseen observations."
   ]
  },
  {
   "cell_type": "markdown",
   "metadata": {},
   "source": [
    "## ModelTesting-LinearRegression"
   ]
  },
  {
   "cell_type": "code",
   "execution_count": 4,
   "metadata": {},
   "outputs": [
    {
     "data": {
      "text/plain": [
       "array([[0.21],\n",
       "       [0.13],\n",
       "       [0.17],\n",
       "       [0.28]])"
      ]
     },
     "execution_count": 4,
     "metadata": {},
     "output_type": "execute_result"
    }
   ],
   "source": [
    "model1Test = pd.DataFrame({\n",
    "    'sepal length (cm)': [5.1, 4.9, 4.7, 4.6],\n",
    "    'sepal width (cm)': [3.5, 3.0, 3.2, 3.1],\n",
    "    'petal length (cm)': [1.4, 1.4, 1.3, 1.5]\n",
    "})\n",
    "\n",
    "Testpred = model1.predict(model1Test)\n",
    "Testpred.round(2)"
   ]
  },
  {
   "cell_type": "code",
   "execution_count": 5,
   "metadata": {},
   "outputs": [],
   "source": [
    "from sklearn.preprocessing import LabelEncoder\n",
    "\n",
    "le = LabelEncoder()\n",
    "\n",
    "iris_df['species_enc'] = le.fit_transform(iris_df['species'])\n",
    "\n",
    "featuresC = ['sepal length (cm)', 'sepal width (cm)', 'petal length (cm)', 'petal width (cm)']\n",
    "targetC = ['species_enc'] \n",
    "\n",
    "Xc = iris_df.loc[:, featuresC]\n",
    "yC = iris_df.loc[:, targetC]\n",
    "\n",
    "featuresR = ['sepal length (cm)', 'sepal width (cm)', 'petal length (cm)']\n",
    "targetR = ['petal width (cm)']\n",
    "\n",
    "Xr = iris_df.loc[:, featuresR]\n",
    "yR = iris_df.loc[:, targetR]"
   ]
  },
  {
   "cell_type": "markdown",
   "metadata": {},
   "source": [
    "## DecisionTrees\n",
    "\n",
    "### Decision Tree Classifier: Predicting Iris Species\n",
    "\n",
    "- Loaded the Iris dataset using scikit-learn and created a DataFrame from it.\n",
    "- Mapped the target variable 'species' to actual species names for better interpretation.\n",
    "- Defined the features ('sepal length (cm)', 'sepal width (cm)', 'petal length (cm)', 'petal width (cm)') and the target variable ('species').\n",
    "- Split the dataset into training and testing sets using `train_test_split()` from scikit-learn.\n",
    "- Initialized a Decision Tree Classifier from scikit-learn.\n",
    "- Trained the classifier on the training data using `fit()` method.\n",
    "- Made predictions on the test set using `predict()` method.\n",
    "- Evaluated the classifier performance using metrics like accuracy, precision, recall, and F1-score.\n",
    "\n",
    "### Decision Tree Regressor: Predicting 'petal width' using other features\n",
    "\n",
    "- Loaded the Iris dataset using scikit-learn and created a DataFrame from it.\n",
    "- Mapped the target variable 'species' to actual species names for better interpretation.\n",
    "- Defined the features ('sepal length (cm)', 'sepal width (cm)', 'petal length (cm)') and the target variable ('petal width (cm)').\n",
    "- Split the dataset into training and testing sets using `train_test_split()` from scikit-learn.\n",
    "- Initialized a Decision Tree Regressor from scikit-learn.\n",
    "- Trained the regressor on the training data using `fit()` method.\n",
    "- Made predictions on the test set using `predict()` method.\n",
    "- Finally, calculated the Mean Squared Error (MSE) using `mean_squared_error()`, Mean Absolute Error (MAE) using `mean_absolute_error()`, and R-squared score (R2 score) using `r2_score()`.\n"
   ]
  },
  {
   "cell_type": "code",
   "execution_count": 6,
   "metadata": {},
   "outputs": [
    {
     "name": "stdout",
     "output_type": "stream",
     "text": [
      "Mean Squared Error: 0.07079646017699115\n",
      "Mean Squared Error: 0.09064159292035398\n"
     ]
    }
   ],
   "source": [
    "from sklearn.tree import DecisionTreeClassifier\n",
    "from sklearn.tree import DecisionTreeRegressor\n",
    "from sklearn.model_selection import train_test_split\n",
    "from sklearn.metrics import mean_squared_error\n",
    "\n",
    "#Classifier\n",
    "model2C = DecisionTreeClassifier(random_state=11)\n",
    "Xc_train, Xc_test, yC_train, yC_test = train_test_split(Xc, yC, test_size=0.75, random_state=11)\n",
    "\n",
    "model2C.fit(Xc_train, yC_train)\n",
    "\n",
    "yC_pred = model2C.predict(Xc_test)\n",
    "\n",
    "mseC = mean_squared_error(yC_test, yC_pred)\n",
    "print(\"Mean Squared Error:\", mseC)\n",
    "\n",
    "#Regressor\n",
    "model2R = DecisionTreeRegressor(random_state=11)\n",
    "\n",
    "Xr_train, Xr_test, yR_train, yR_test = train_test_split(Xr, yR, test_size=0.75, random_state=11)\n",
    "\n",
    "model2R.fit(Xr_train, yR_train)\n",
    "\n",
    "yR_pred = model2R.predict(Xr_test)\n",
    "\n",
    "# Calculate the Mean Squared Error\n",
    "mseR = mean_squared_error(yR_test, yR_pred)\n",
    "print(\"Mean Squared Error:\", mseR)"
   ]
  },
  {
   "cell_type": "markdown",
   "metadata": {},
   "source": [
    "## Infrences-DecisionTree\n",
    "\n",
    "- The Decision Tree Classifier has a MSE of 0.0708, indicating relatively accurate classification predictions.\n",
    "- The Decision Tree Regressor has a MSE of 0.0906, suggesting slightly higher prediction errors compared to the classifier."
   ]
  },
  {
   "cell_type": "markdown",
   "metadata": {},
   "source": [
    "# ModelTesting-DecisionTree"
   ]
  },
  {
   "cell_type": "code",
   "execution_count": 7,
   "metadata": {},
   "outputs": [
    {
     "name": "stdout",
     "output_type": "stream",
     "text": [
      "[2 2 2 1 2]\n",
      "[1.8  1.6  2.15 1.3  1.8 ]\n"
     ]
    }
   ],
   "source": [
    "model2CTest = pd.DataFrame({\n",
    "    'sepal length (cm)': ['7.2','6.9','6.4','5.5','7.4'], \n",
    "    'sepal width (cm)': ['3.2','3.1','3.1','2.5','2.8'], \n",
    "    'petal length (cm)': ['6.0','5.4','5.5','4.0','6.1'], \n",
    "    'petal width (cm)': ['1.8','2.1','1.8','1.3','1.9']\n",
    "})\n",
    "\n",
    "cTestpred = model2C.predict(model2CTest)\n",
    "\n",
    "print(cTestpred)\n",
    "\n",
    "model2RTest = pd.DataFrame({\n",
    "    'sepal length (cm)': ['7.2','6.9','6.4','5.5','7.4'], \n",
    "    'sepal width (cm)': ['3.2','3.1','3.1','2.5','2.8'], \n",
    "    'petal length (cm)': ['6.0','5.4','5.5','4.0','6.1'], \n",
    "})\n",
    "\n",
    "rTestpred = model2R.predict(model2RTest)\n",
    "\n",
    "print(rTestpred)"
   ]
  },
  {
   "cell_type": "markdown",
   "metadata": {},
   "source": [
    "## RandomForest\n",
    "### Random Forest Classifier: Predicting Iris Species\n",
    "- Loaded the Iris dataset using scikit-learn and created a DataFrame from it.\n",
    "- Mapped the target variable `species` to actual species names for better interpretation.\n",
    "- Defined the features (`sepal length (cm)`, `sepal width (cm)`, `petal length (cm)`, `petal width (cm)`) and the target variable (`species`).\n",
    "- Split the dataset into training and testing sets using train_test_split() from scikit-learn.\n",
    "- Initialized a Random Forest Classifier from scikit-learn with a specified number of estimators and a random state.\n",
    "- Trained the classifier on the training data using fit() method.\n",
    "- Made predictions on the test set using predict() method.\n",
    "- Evaluated the classifier performance using metrics like accuracy, precision, recall, and F1-score.\n",
    "\n",
    "### Random Forest Regressor: Predicting `petal width` using other features\n",
    "- Loaded the Iris dataset using scikit-learn and created a DataFrame from it.\n",
    "- Mapped the target variable `species` to actual species names for better interpretation.\n",
    "- Defined the features (`sepal length (cm)`, `sepal width (cm)`, `petal length (cm)`) and the target variable (`petal width (cm)`).\n",
    "- Split the dataset into training and testing sets using train_test_split() from scikit-learn.\n",
    "- Initialized a Random Forest Regressor from scikit-learn with a specified number of estimators and a random state.\n",
    "- Trained the regressor on the training data using fit() method.\n",
    "- Made predictions on the test set using predict() method.\n",
    "- Finally, calculated the Mean Squared Error (MSE) using mean_squared_error(), Mean Absolute Error (MAE) using mean_absolute_error(), and R-squared score (R2 score) using r2_score()."
   ]
  },
  {
   "cell_type": "code",
   "execution_count": 8,
   "metadata": {},
   "outputs": [],
   "source": [
    "from sklearn.preprocessing import LabelEncoder\n",
    "\n",
    "le = LabelEncoder()\n",
    "\n",
    "iris_df['species_enc'] = le.fit_transform(iris_df['species'])\n",
    "\n",
    "featuresC = ['sepal length (cm)', 'sepal width (cm)', 'petal length (cm)', 'petal width (cm)']\n",
    "targetC = ['species_enc'] \n",
    "\n",
    "Xc = iris_df.loc[:, featuresC]\n",
    "yC = iris_df.loc[:, targetC]\n",
    "\n",
    "featuresR = ['sepal length (cm)', 'sepal width (cm)', 'petal length (cm)']\n",
    "targetR = ['petal width (cm)']\n",
    "\n",
    "Xr = iris_df.loc[:, featuresR]\n",
    "yR = iris_df.loc[:, targetR]"
   ]
  },
  {
   "cell_type": "code",
   "execution_count": 9,
   "metadata": {},
   "outputs": [
    {
     "name": "stdout",
     "output_type": "stream",
     "text": [
      "Mean Squared Error: 0.061946902654867256\n",
      "Mean Squared Error: 0.06052411431415949\n"
     ]
    }
   ],
   "source": [
    "from sklearn.ensemble import RandomForestClassifier\n",
    "from sklearn.ensemble import RandomForestRegressor\n",
    "from sklearn.model_selection import train_test_split\n",
    "from sklearn.metrics import mean_squared_error\n",
    "import numpy as np\n",
    "\n",
    "#unravel\n",
    "yC = np.ravel(yC)\n",
    "yR = np.ravel(yR)\n",
    "\n",
    "#Classifier\n",
    "model3C = RandomForestClassifier(random_state=11)\n",
    "Xc_train, Xc_test, yC_train, yC_test = train_test_split(Xc, yC, test_size=0.75, random_state=11)\n",
    "\n",
    "model3C.fit(Xc_train, yC_train)\n",
    "\n",
    "yC_pred = model3C.predict(Xc_test)\n",
    "\n",
    "mseC = mean_squared_error(yC_test, yC_pred)\n",
    "print(\"Mean Squared Error:\", mseC)\n",
    "\n",
    "#Regressor\n",
    "model3R = RandomForestRegressor(random_state=11)\n",
    "\n",
    "Xr_train, Xr_test, yR_train, yR_test = train_test_split(Xr, yR, test_size=0.75, random_state=11)\n",
    "\n",
    "model3R.fit(Xr_train, yR_train)\n",
    "\n",
    "yR_pred = model3R.predict(Xr_test)\n",
    "\n",
    "# Calculate the Mean Squared Error\n",
    "mseR = mean_squared_error(yR_test, yR_pred)\n",
    "print(\"Mean Squared Error:\", mseR)\n"
   ]
  },
  {
   "cell_type": "markdown",
   "metadata": {},
   "source": [
    "## Infrences-RandonForest\n",
    "\n",
    "### Decision Tree Classifier (MSE: 0.0619):\n",
    "- The Decision Tree Classifier shows relatively accurate classification predictions. Despite the mean squared error, the classifier performs reasonably well in predicting the classes of the Iris dataset. \n",
    "\n",
    "### Decision Tree Regressor (MSE: 0.0605):\n",
    "- The Decision Tree Regressor demonstrates slightly lower prediction errors compared to the classifier. This model provides a relatively good fit to the data when predicting the 'petal width (cm)' feature based on other features."
   ]
  },
  {
   "cell_type": "markdown",
   "metadata": {},
   "source": [
    "# ModelTesting-RandonForest"
   ]
  },
  {
   "cell_type": "code",
   "execution_count": 10,
   "metadata": {},
   "outputs": [
    {
     "name": "stdout",
     "output_type": "stream",
     "text": [
      "[2 2 2 1 2]\n",
      "[1.808      1.78141667 2.07766667 1.234      1.97375   ]\n"
     ]
    }
   ],
   "source": [
    "model3CTest = pd.DataFrame({\n",
    "    'sepal length (cm)': ['7.2','6.9','6.4','5.5','7.4'], \n",
    "    'sepal width (cm)': ['3.2','3.1','3.1','2.5','2.8'], \n",
    "    'petal length (cm)': ['6.0','5.4','5.5','4.0','6.1'], \n",
    "    'petal width (cm)': ['1.8','2.1','1.8','1.3','1.9']\n",
    "})\n",
    "\n",
    "cTestpred = model3C.predict(model3CTest)\n",
    "\n",
    "print(cTestpred)\n",
    "\n",
    "model3RTest = pd.DataFrame({\n",
    "    'sepal length (cm)': ['7.2','6.9','6.4','5.5','7.4'], \n",
    "    'sepal width (cm)': ['3.2','3.1','3.1','2.5','2.8'], \n",
    "    'petal length (cm)': ['6.0','5.4','5.5','4.0','6.1'], \n",
    "})\n",
    "\n",
    "rTestpred = model3R.predict(model3RTest)\n",
    "\n",
    "print(rTestpred)"
   ]
  },
  {
   "cell_type": "markdown",
   "metadata": {},
   "source": [
    "## AdaBoost\n",
    "\n",
    "### AdaBoost Classifier: Predicting Target Classes\n",
    "\n",
    "- **Load the Dataset**: Load the dataset, ensuring it's properly formatted and cleaned.\n",
    "  \n",
    "- **Preprocess Data**: Perform necessary preprocessing steps such as encoding categorical variables and handling missing values.\n",
    "  \n",
    "- **Split the Data**: Split the dataset into training and testing sets using `train_test_split()` from scikit-learn.\n",
    "  \n",
    "- **Initialize AdaBoost Classifier**: Create an AdaBoost classifier object using `AdaBoostClassifier()` from scikit-learn.\n",
    "  \n",
    "- **Train the Model**: Fit the AdaBoost classifier to the training data using the `fit()` method.\n",
    "  \n",
    "- **Make Predictions**: Use the trained classifier to make predictions on the test set using the `predict()` method.\n",
    "  \n",
    "- **Evaluate Model Performance**: Assess the classifier's performance using evaluation metrics like accuracy, precision, recall, F1-score, and confusion matrix.\n",
    "  \n",
    "### AdaBoost Regressor: Predicting Continuous Target Variables\n",
    "\n",
    "- **Load the Dataset**: Load the dataset and preprocess it accordingly.\n",
    "  \n",
    "- **Preprocess Data**: Handle any missing values and scale the features if necessary.\n",
    "  \n",
    "- **Split the Data**: Split the dataset into training and testing sets.\n",
    "  \n",
    "- **Initialize AdaBoost Regressor**: Create an AdaBoost regressor object using `AdaBoostRegressor()` from scikit-learn.\n",
    "  \n",
    "- **Train the Model**: Fit the AdaBoost regressor to the training data.\n",
    "  \n",
    "- **Make Predictions**: Use the trained regressor to make predictions on the test set.\n",
    "  \n",
    "- **Evaluate Model Performance**: Assess the regressor's performance using metrics like mean squared error (MSE), mean absolute error (MAE), and R-squared score.\n",
    "\n",
    "### Interpretation and Analysis\n",
    "\n",
    "- Compare AdaBoost Classifier's performance with other classification algorithms if applicable.\n",
    "  \n",
    "- Analyze AdaBoost Regressor's predictions and assess its effectiveness in modeling the target variable.\n",
    "  \n",
    "- Discuss any limitations or areas for improvement in the AdaBoost models.\n"
   ]
  },
  {
   "cell_type": "code",
   "execution_count": 11,
   "metadata": {},
   "outputs": [],
   "source": [
    "from sklearn.preprocessing import LabelEncoder\n",
    "\n",
    "le = LabelEncoder()\n",
    "\n",
    "iris_df['species_enc'] = le.fit_transform(iris_df['species'])\n",
    "\n",
    "featuresC = ['sepal length (cm)', 'sepal width (cm)', 'petal length (cm)', 'petal width (cm)']\n",
    "targetC = ['species_enc'] \n",
    "\n",
    "Xc = iris_df.loc[:, featuresC]\n",
    "yC = iris_df.loc[:, targetC]\n",
    "\n",
    "featuresR = ['sepal length (cm)', 'sepal width (cm)', 'petal length (cm)']\n",
    "targetR = ['petal width (cm)']\n",
    "\n",
    "Xr = iris_df.loc[:, featuresR]\n",
    "yR = iris_df.loc[:, targetR]"
   ]
  },
  {
   "cell_type": "code",
   "execution_count": 12,
   "metadata": {},
   "outputs": [
    {
     "name": "stdout",
     "output_type": "stream",
     "text": [
      "The MSE for classifier(algorithm='SAMME') is: 0.0380952380952381\n",
      "The MSE for classifier(algorithm='SAMME.R') is: 0.0380952380952381\n",
      "The MSE for regressor is: 0.047146094741636904\n"
     ]
    },
    {
     "name": "stderr",
     "output_type": "stream",
     "text": [
      "/Library/Frameworks/Python.framework/Versions/3.11/lib/python3.11/site-packages/sklearn/ensemble/_weight_boosting.py:519: FutureWarning: The SAMME.R algorithm (the default) is deprecated and will be removed in 1.6. Use the SAMME algorithm to circumvent this warning.\n",
      "  warnings.warn(\n"
     ]
    }
   ],
   "source": [
    "from sklearn.ensemble import AdaBoostClassifier\n",
    "from sklearn.ensemble import AdaBoostRegressor\n",
    "from sklearn.metrics import mean_squared_error\n",
    "\n",
    "yC = np.ravel(yC)\n",
    "yR = np.ravel(yR)\n",
    "\n",
    "# AdaBoostClassifier\n",
    "model4C1 = AdaBoostClassifier(algorithm='SAMME', random_state=22)\n",
    "Xc_train, Xc_test, yC_train, yC_test = train_test_split(Xc, yC, test_size=0.70, random_state=22)\n",
    "model4C1.fit(Xc_train, yC_train)\n",
    "yC_pred = model4C1.predict(Xc_test)\n",
    "mseC1 = mean_squared_error(yC_test, yC_pred)\n",
    "print(\"The MSE for classifier(algorithm='SAMME') is:\", mseC1)\n",
    "\n",
    "model4C2 = AdaBoostClassifier(algorithm='SAMME.R', random_state=22)\n",
    "Xc_train, Xc_test, yC_train, yC_test = train_test_split(Xc, yC, test_size=0.70, random_state=22)\n",
    "model4C2.fit(Xc_train, yC_train)\n",
    "yC_pred = model4C2.predict(Xc_test)\n",
    "mseC2 = mean_squared_error(yC_test, yC_pred)\n",
    "print(\"The MSE for classifier(algorithm='SAMME.R') is:\", mseC2)\n",
    "\n",
    "# AdaBoostRegressor\n",
    "model4R = AdaBoostRegressor(random_state=22)\n",
    "Xr_train, Xr_test, yR_train, yR_test = train_test_split(Xr, yR, test_size=0.70, random_state=22)\n",
    "model4R.fit(Xr_train, yR_train)\n",
    "yR_pred = model4R.predict(Xr_test)\n",
    "mseR = mean_squared_error(yR_test, yR_pred)\n",
    "print(\"The MSE for regressor is:\", mseR)"
   ]
  },
  {
   "cell_type": "markdown",
   "metadata": {},
   "source": [
    "## Infrences-AdaBoost\n",
    "\n",
    "### AdaBoost Classifier: Predicting Iris Species\n",
    "\n",
    "- The AdaBoost Classifier with the SAMME algorithm achieves an MSE of 0.0381, indicating relatively accurate classification predictions.\n",
    "- Similarly, the AdaBoost Classifier with the SAMME.R algorithm also achieves an MSE of 0.0381, showing consistent performance with the SAMME algorithm.\n",
    "- Both classifiers demonstrate effective classification capabilities with minimal prediction errors.\n",
    "\n",
    "### AdaBoost Regressor: Predicting Petal Width Using Other Features\n",
    "\n",
    "- The AdaBoost Regressor achieves an MSE of 0.0471 when predicting the 'petal width (cm)' feature based on other features.\n",
    "- Despite slightly higher prediction errors compared to the classifiers, the regressor still provides a reasonable fit to the data.\n",
    "\n",
    "### Interpretation and Analysis\n",
    "\n",
    "- Both AdaBoost classifiers show consistent performance, with similar MSE values regardless of the algorithm used (SAMME or SAMME.R).\n",
    "- The AdaBoost Regressor performs reasonably well in modeling the target variable, although it exhibits slightly higher prediction errors compared to the classifiers.\n",
    "- Further analysis may be warranted to explore the strengths and weaknesses of AdaBoost algorithms in different classification and regression tasks.\n"
   ]
  },
  {
   "cell_type": "markdown",
   "metadata": {},
   "source": [
    "# ModelTesting-AdaBoost"
   ]
  },
  {
   "cell_type": "code",
   "execution_count": 13,
   "metadata": {},
   "outputs": [
    {
     "name": "stdout",
     "output_type": "stream",
     "text": [
      "[2 2 2 1 2]\n",
      "[2 2 2 1 2]\n",
      "[2.20833333 1.87391304 1.97647059 1.43636364 2.16      ]\n"
     ]
    }
   ],
   "source": [
    "model4C1Test = pd.DataFrame({\n",
    "    'sepal length (cm)': ['7.2','6.9','6.4','5.5','7.4'], \n",
    "    'sepal width (cm)': ['3.2','3.1','3.1','2.5','2.8'], \n",
    "    'petal length (cm)': ['6.0','5.4','5.5','4.0','6.1'], \n",
    "    'petal width (cm)': ['1.8','2.1','1.8','1.3','1.9']\n",
    "})\n",
    "\n",
    "c1Testpred = model4C1.predict(model4C1Test)\n",
    "\n",
    "print(c1Testpred)\n",
    "\n",
    "model4C2Test = pd.DataFrame({\n",
    "    'sepal length (cm)': ['7.2','6.9','6.4','5.5','7.4'], \n",
    "    'sepal width (cm)': ['3.2','3.1','3.1','2.5','2.8'], \n",
    "    'petal length (cm)': ['6.0','5.4','5.5','4.0','6.1'], \n",
    "    'petal width (cm)': ['1.8','2.1','1.8','1.3','1.9']\n",
    "})\n",
    "\n",
    "c2Testpred = model4C2.predict(model4C2Test)\n",
    "\n",
    "print(c2Testpred)\n",
    "\n",
    "model4RTest = pd.DataFrame({\n",
    "    'sepal length (cm)': ['7.2','6.9','6.4','5.5','7.4'], \n",
    "    'sepal width (cm)': ['3.2','3.1','3.1','2.5','2.8'], \n",
    "    'petal length (cm)': ['6.0','5.4','5.5','4.0','6.1'], \n",
    "})\n",
    "\n",
    "rTestpred = model4R.predict(model4RTest)\n",
    "\n",
    "print(rTestpred)"
   ]
  },
  {
   "cell_type": "markdown",
   "metadata": {},
   "source": [
    "## GradientBoosting\n",
    "\n",
    "### Gradient Boosting Classifier: Predicting Target Classes\n",
    "\n",
    "- **Load the Dataset**: Load the dataset, ensuring it's properly formatted and cleaned.\n",
    "  \n",
    "- **Preprocess Data**: Perform necessary preprocessing steps such as encoding categorical variables and handling missing values.\n",
    "  \n",
    "- **Split the Data**: Split the dataset into training and testing sets using `train_test_split()` from scikit-learn.\n",
    "  \n",
    "- **Initialize Gradient Boosting Classifier**: Create a Gradient Boosting classifier object using `GradientBoostingClassifier()` from scikit-learn.\n",
    "  \n",
    "- **Train the Model**: Fit the Gradient Boosting classifier to the training data using the `fit()` method.\n",
    "  \n",
    "- **Make Predictions**: Use the trained classifier to make predictions on the test set using the `predict()` method.\n",
    "  \n",
    "- **Evaluate Model Performance**: Assess the classifier's performance using evaluation metrics like accuracy, precision, recall, F1-score, and confusion matrix.\n",
    "  \n",
    "### Gradient Boosting Regressor: Predicting Continuous Target Variables\n",
    "\n",
    "- **Load the Dataset**: Load the dataset and preprocess it accordingly.\n",
    "  \n",
    "- **Preprocess Data**: Handle any missing values and scale the features if necessary.\n",
    "  \n",
    "- **Split the Data**: Split the dataset into training and testing sets.\n",
    "  \n",
    "- **Initialize Gradient Boosting Regressor**: Create a Gradient Boosting regressor object using `GradientBoostingRegressor()` from scikit-learn.\n",
    "  \n",
    "- **Train the Model**: Fit the Gradient Boosting regressor to the training data.\n",
    "  \n",
    "- **Make Predictions**: Use the trained regressor to make predictions on the test set.\n",
    "  \n",
    "- **Evaluate Model Performance**: Assess the regressor's performance using metrics like mean squared error (MSE), mean absolute error (MAE), and R-squared score.\n",
    "\n",
    "### Interpretation and Analysis\n",
    "\n",
    "- Compare Gradient Boosting Classifier's performance with other classification algorithms if applicable.\n",
    "  \n",
    "- Analyze Gradient Boosting Regressor's predictions and assess its effectiveness in modeling the target variable.\n",
    "  \n",
    "- Discuss any limitations or areas for improvement in the Gradient Boosting models.\n"
   ]
  },
  {
   "cell_type": "code",
   "execution_count": 14,
   "metadata": {},
   "outputs": [],
   "source": [
    "from sklearn.preprocessing import LabelEncoder\n",
    "\n",
    "le = LabelEncoder()\n",
    "\n",
    "iris_df['species_enc'] = le.fit_transform(iris_df['species'])\n",
    "\n",
    "featuresC = ['sepal length (cm)', 'sepal width (cm)', 'petal length (cm)', 'petal width (cm)']\n",
    "targetC = ['species_enc'] \n",
    "\n",
    "Xc = iris_df.loc[:, featuresC]\n",
    "yC = iris_df.loc[:, targetC]\n",
    "\n",
    "featuresR = ['sepal length (cm)', 'sepal width (cm)', 'petal length (cm)']\n",
    "targetR = ['petal width (cm)']\n",
    "\n",
    "Xr = iris_df.loc[:, featuresR]\n",
    "yR = iris_df.loc[:, targetR]"
   ]
  },
  {
   "cell_type": "code",
   "execution_count": 15,
   "metadata": {},
   "outputs": [
    {
     "name": "stdout",
     "output_type": "stream",
     "text": [
      "The accuracy_score for classifier(algorithm='?') is: 0.9557522123893806\n",
      "The MSE for classifier(algorithm='?') is: 0.042387059375743615\n"
     ]
    }
   ],
   "source": [
    "from sklearn.ensemble import GradientBoostingClassifier\n",
    "from sklearn.ensemble import GradientBoostingRegressor\n",
    "from sklearn.metrics import accuracy_score, mean_squared_error\n",
    "\n",
    "yC = np.ravel(yC)\n",
    "yR = np.ravel(yR)\n",
    "\n",
    "model5C1 = GradientBoostingClassifier(random_state=33)\n",
    "Xc_train, Xc_test, yC_train, yC_test = train_test_split(Xc, yC, test_size=0.75, random_state=33)\n",
    "model5C1.fit(Xc_train, yC_train)\n",
    "yC_pred = model5C1.predict(Xc_test)\n",
    "\n",
    "accC1 = accuracy_score(yC_test, yC_pred)\n",
    "\n",
    "print(\"The accuracy_score for classifier(algorithm='?') is:\", accC1)\n",
    "\n",
    "model5R = GradientBoostingRegressor(random_state=33)\n",
    "Xr_train, Xr_test, yR_train, yR_test = train_test_split(Xr, yR, test_size=0.75, random_state=33)\n",
    "model5R.fit(Xr_train, yR_train)\n",
    "yR_pred = model5R.predict(Xr_test)\n",
    "\n",
    "mseR = mean_squared_error(yR_test, yR_pred)\n",
    "\n",
    "print(\"The MSE for classifier(algorithm='?') is:\", mseR)"
   ]
  },
  {
   "cell_type": "markdown",
   "metadata": {},
   "source": [
    "## Infrences-GradientBoosting\n",
    "- The accuracy score for the classifier with algorithm='?' is 0.9557522123893806, indicating a high level of accuracy in classifying the target classes.\n",
    "- The Mean Squared Error (MSE) for the classifier with algorithm='?' is 0.042387059375743615, suggesting relatively low prediction errors for the regression task."
   ]
  },
  {
   "cell_type": "markdown",
   "metadata": {},
   "source": [
    "## ModelTesting-GradientBoosting"
   ]
  },
  {
   "cell_type": "code",
   "execution_count": 16,
   "metadata": {},
   "outputs": [
    {
     "name": "stdout",
     "output_type": "stream",
     "text": [
      "[2 2 2 1 2]\n",
      "[2.25244715 2.11999656 2.1336337  1.21333376 1.88757458]\n"
     ]
    }
   ],
   "source": [
    "model5C1Test = pd.DataFrame({\n",
    "    'sepal length (cm)': ['7.2','6.9','6.4','5.5','7.4'], \n",
    "    'sepal width (cm)': ['3.2','3.1','3.1','2.5','2.8'], \n",
    "    'petal length (cm)': ['6.0','5.4','5.5','4.0','6.1'], \n",
    "    'petal width (cm)': ['1.8','2.1','1.8','1.3','1.9']\n",
    "})\n",
    "\n",
    "c1Testpred = model5C1.predict(model5C1Test)\n",
    "\n",
    "print(c1Testpred)\n",
    "\n",
    "model5RTest = pd.DataFrame({\n",
    "    'sepal length (cm)': ['7.2','6.9','6.4','5.5','7.4'], \n",
    "    'sepal width (cm)': ['3.2','3.1','3.1','2.5','2.8'], \n",
    "    'petal length (cm)': ['6.0','5.4','5.5','4.0','6.1'], \n",
    "})\n",
    "\n",
    "rTestpred = model5R.predict(model5RTest)\n",
    "\n",
    "print(rTestpred)"
   ]
  },
  {
   "cell_type": "markdown",
   "metadata": {},
   "source": [
    "## XGBoost\n",
    "\n",
    "### XGBoost Classifier: Predicting Target Classes\n",
    "\n",
    "- **Load the Dataset**: Load the dataset ensuring it's properly formatted and cleaned.\n",
    "  \n",
    "- **Preprocess Data**: Perform necessary preprocessing steps such as encoding categorical variables and handling missing values.\n",
    "  \n",
    "- **Split the Data**: Split the dataset into training and testing sets using `train_test_split()` from scikit-learn.\n",
    "  \n",
    "- **Initialize XGBoost Classifier**: Create an XGBoost classifier object using `XGBClassifier()` from XGBoost library.\n",
    "  \n",
    "- **Train the Model**: Fit the XGBoost classifier to the training data using the `fit()` method.\n",
    "  \n",
    "- **Make Predictions**: Use the trained classifier to make predictions on the test set using the `predict()` method.\n",
    "  \n",
    "- **Evaluate Model Performance**: Assess the classifier's performance using evaluation metrics like accuracy, precision, recall, F1-score, and confusion matrix.\n",
    "  \n",
    "### XGBoost Regressor: Predicting Continuous Target Variables\n",
    "\n",
    "- **Load the Dataset**: Load the dataset and preprocess it accordingly.\n",
    "  \n",
    "- **Preprocess Data**: Handle any missing values and scale the features if necessary.\n",
    "  \n",
    "- **Split the Data**: Split the dataset into training and testing sets.\n",
    "  \n",
    "- **Initialize XGBoost Regressor**: Create an XGBoost regressor object using `XGBRegressor()` from XGBoost library.\n",
    "  \n",
    "- **Train the Model**: Fit the XGBoost regressor to the training data.\n",
    "  \n",
    "- **Make Predictions**: Use the trained regressor to make predictions on the test set.\n",
    "  \n",
    "- **Evaluate Model Performance**: Assess the regressor's performance using metrics like mean squared error (MSE), mean absolute error (MAE), and R-squared score.\n",
    "\n",
    "### Interpretation and Analysis\n",
    "\n",
    "- Compare XGBoost Classifier's performance with other classification algorithms if applicable.\n",
    "  \n",
    "- Analyze XGBoost Regressor's predictions and assess its effectiveness in modeling the target variable.\n",
    "  \n",
    "- Discuss any limitations or areas for improvement in the XGBoost models.\n"
   ]
  },
  {
   "cell_type": "code",
   "execution_count": 17,
   "metadata": {},
   "outputs": [
    {
     "name": "stdout",
     "output_type": "stream",
     "text": [
      "Requirement already satisfied: xgboost in /Library/Frameworks/Python.framework/Versions/3.11/lib/python3.11/site-packages (2.0.3)\n",
      "Requirement already satisfied: numpy in /Library/Frameworks/Python.framework/Versions/3.11/lib/python3.11/site-packages (from xgboost) (1.26.3)\n",
      "Requirement already satisfied: scipy in /Library/Frameworks/Python.framework/Versions/3.11/lib/python3.11/site-packages (from xgboost) (1.12.0)\n"
     ]
    }
   ],
   "source": [
    "!pip3 install xgboost"
   ]
  },
  {
   "cell_type": "code",
   "execution_count": 18,
   "metadata": {},
   "outputs": [],
   "source": [
    "from sklearn.preprocessing import LabelEncoder\n",
    "\n",
    "le = LabelEncoder()\n",
    "\n",
    "iris_df['species_enc'] = le.fit_transform(iris_df['species'])\n",
    "\n",
    "featuresC = ['sepal length (cm)', 'sepal width (cm)', 'petal length (cm)', 'petal width (cm)']\n",
    "targetC = ['species_enc'] \n",
    "\n",
    "Xc = iris_df.loc[:, featuresC]\n",
    "yC = iris_df.loc[:, targetC]\n",
    "\n",
    "featuresR = ['sepal length (cm)', 'sepal width (cm)', 'petal length (cm)']\n",
    "targetR = ['petal width (cm)']\n",
    "\n",
    "Xr = iris_df.loc[:, featuresR]\n",
    "yR = iris_df.loc[:, targetR]"
   ]
  },
  {
   "cell_type": "code",
   "execution_count": 19,
   "metadata": {},
   "outputs": [
    {
     "name": "stdout",
     "output_type": "stream",
     "text": [
      "The accuracy_score for classifier(algorithm='?') is: 0.9203539823008849\n",
      "The MSE for classifier(algorithm='?') is: 0.06099023351005738\n"
     ]
    }
   ],
   "source": [
    "import xgboost as xgb\n",
    "from xgboost import XGBClassifier\n",
    "from xgboost import XGBRegressor\n",
    "from sklearn.model_selection import train_test_split\n",
    "from sklearn.metrics import mean_squared_error, accuracy_score\n",
    "\n",
    "yC = np.ravel(yC)\n",
    "yR = np.ravel(yR)\n",
    "\n",
    "model6C = XGBClassifier(random_state=8)\n",
    "Xc_train, Xc_test, yC_train, yC_test = train_test_split(Xc, yC, test_size=0.75, random_state=8)\n",
    "model6C.fit(Xc_train, yC_train)\n",
    "yC_pred = model6C.predict(Xc_test)\n",
    "accC = accuracy_score(yC_test, yC_pred)\n",
    "print(\"The accuracy_score for classifier(algorithm='?') is:\", accC)\n",
    "\n",
    "model6R = XGBRegressor(random_state=8)\n",
    "Xr_train, Xr_test, yR_train, yR_test = train_test_split(Xr, yR, test_size=0.75, random_state=8)\n",
    "model6R.fit(Xr_train, yR_train)\n",
    "yR_pred = model6R.predict(Xr_test)\n",
    "mseR = mean_squared_error(yR_test, yR_pred)\n",
    "print(\"The MSE for classifier(algorithm='?') is:\", mseR)"
   ]
  },
  {
   "cell_type": "markdown",
   "metadata": {},
   "source": [
    "## Infrences-XGBoost\n",
    "- The accuracy score for the XGBoost classifier is 0.920, indicating that the classifier correctly predicted the target classes for approximately 92% of the instances in the test set.\n",
    "\n",
    "- The mean squared error (MSE) for the XGBoost regressor is 0.061, suggesting that, on average, the squared differences between the actual and predicted values of the continuous target variable are relatively small. This indicates a reasonably good performance of the XGBoost regressor in modeling the target variable."
   ]
  },
  {
   "cell_type": "markdown",
   "metadata": {},
   "source": [
    "## ModelTesting-XGBoost"
   ]
  },
  {
   "cell_type": "code",
   "execution_count": 20,
   "metadata": {},
   "outputs": [
    {
     "name": "stdout",
     "output_type": "stream",
     "text": [
      "[2 2 2 1 2]\n",
      "[1.8015436 1.9836537 2.2852514 1.3076606 1.9005513]\n"
     ]
    }
   ],
   "source": [
    "model6CTest = pd.DataFrame({\n",
    "    'sepal length (cm)': ['7.2','6.9','6.4','5.5','7.4'], \n",
    "    'sepal width (cm)': ['3.2','3.1','3.1','2.5','2.8'], \n",
    "    'petal length (cm)': ['6.0','5.4','5.5','4.0','6.1'], \n",
    "    'petal width (cm)': ['1.8','2.1','1.8','1.3','1.9']\n",
    "})\n",
    "\n",
    "model6CTest['sepal length (cm)'] = model6CTest['sepal length (cm)'].astype(float)\n",
    "model6CTest['sepal width (cm)'] = model6CTest['sepal width (cm)'].astype(float)\n",
    "model6CTest['petal length (cm)'] = model6CTest['petal length (cm)'].astype(float)\n",
    "model6CTest['petal width (cm)'] = model6CTest['petal width (cm)'].astype(float)\n",
    "\n",
    "c1Testpred = model6C.predict(model6CTest)\n",
    "\n",
    "print(c1Testpred)\n",
    "\n",
    "model6RTest = pd.DataFrame({\n",
    "    'sepal length (cm)': ['7.2','6.9','6.4','5.5','7.4'], \n",
    "    'sepal width (cm)': ['3.2','3.1','3.1','2.5','2.8'], \n",
    "    'petal length (cm)': ['6.0','5.4','5.5','4.0','6.1'], \n",
    "})\n",
    "\n",
    "model6RTest['sepal length (cm)'] = model6RTest['sepal length (cm)'].astype(float)\n",
    "model6RTest['sepal width (cm)'] = model6RTest['sepal width (cm)'].astype(float)\n",
    "model6RTest['petal length (cm)'] = model6RTest['petal length (cm)'].astype(float)\n",
    "\n",
    "rTestpred = model6R.predict(model6RTest)\n",
    "\n",
    "print(rTestpred)"
   ]
  },
  {
   "cell_type": "markdown",
   "metadata": {},
   "source": [
    "LogisticRegression"
   ]
  },
  {
   "cell_type": "code",
   "execution_count": 21,
   "metadata": {},
   "outputs": [],
   "source": [
    "iris_df\n",
    "\n",
    "from sklearn.preprocessing import LabelEncoder\n",
    "\n",
    "le = LabelEncoder()\n",
    "\n",
    "iris_df['species_enc'] = le.fit_transform(iris_df['species'])\n",
    "\n",
    "features = ['sepal length (cm)','sepal width (cm)','petal length (cm)','petal width (cm)']\n",
    "target = ['species_enc']\n",
    "\n",
    "X = iris_df.loc[:, features]\n",
    "y = iris_df.loc[:, target]"
   ]
  },
  {
   "cell_type": "code",
   "execution_count": 22,
   "metadata": {},
   "outputs": [
    {
     "name": "stdout",
     "output_type": "stream",
     "text": [
      "the accuracy_score of the logisticRegression model is: 0.9428571428571428\n"
     ]
    },
    {
     "data": {
      "text/plain": [
       "Text(0.5, 1.0, 'Confusion Matrix')"
      ]
     },
     "execution_count": 22,
     "metadata": {},
     "output_type": "execute_result"
    },
    {
     "data": {
      "image/png": "[encoded data removed]",
      "text/plain": [
       "<Figure size 400x300 with 2 Axes>"
      ]
     },
     "metadata": {},
     "output_type": "display_data"
    }
   ],
   "source": [
    "# Import necessary libraries\n",
    "import numpy as np\n",
    "import matplotlib.pyplot as plt\n",
    "from sklearn.model_selection import train_test_split\n",
    "from sklearn.linear_model import LogisticRegression\n",
    "from sklearn.metrics import accuracy_score, classification_report, confusion_matrix\n",
    "import seaborn as sns\n",
    "\n",
    "y = np.ravel(y)\n",
    "\n",
    "X_train, X_test, y_train, y_test = train_test_split(X, y, test_size=0.7, random_state=2)\n",
    "model7 = LogisticRegression()\n",
    "model7.fit(X_train, y_train)\n",
    "y_pred = model7.predict(X_test)\n",
    "\n",
    "acc = accuracy_score(y_test, y_pred)\n",
    "print('the accuracy_score of the logisticRegression model is:', acc) \n",
    "\n",
    "plt.figure(figsize=(4, 3))\n",
    "sns.heatmap(confusion_matrix(y_test, y_pred), annot=True, fmt='d', cmap='Blues')\n",
    "plt.xlabel('Predicted labels')\n",
    "plt.ylabel('True labels')\n",
    "plt.title('Confusion Matrix')\n"
   ]
  },
  {
   "cell_type": "code",
   "execution_count": 23,
   "metadata": {},
   "outputs": [
    {
     "name": "stdout",
     "output_type": "stream",
     "text": [
      "[2 2 2 1 2]\n"
     ]
    }
   ],
   "source": [
    "model7Test = pd.DataFrame({\n",
    "    'sepal length (cm)': ['7.2','6.9','6.4','5.5','7.4'], \n",
    "    'sepal width (cm)': ['3.2','3.1','3.1','2.5','2.8'], \n",
    "    'petal length (cm)': ['6.0','5.4','5.5','4.0','6.1'], \n",
    "    'petal width (cm)': ['1.8','2.1','1.8','1.3','1.9']\n",
    "})\n",
    "\n",
    "model7Test['sepal length (cm)'] = model7Test['sepal length (cm)'].astype(float)\n",
    "model7Test['sepal width (cm)'] = model7Test['sepal width (cm)'].astype(float)\n",
    "model7Test['petal length (cm)'] = model7Test['petal length (cm)'].astype(float)\n",
    "model7Test['petal width (cm)'] = model7Test['petal width (cm)'].astype(float)\n",
    "\n",
    "Testpred = model7.predict(model7Test)\n",
    "\n",
    "print(Testpred)"
   ]
  },
  {
   "cell_type": "code",
   "execution_count": 24,
   "metadata": {},
   "outputs": [
    {
     "data": {
      "image/png": "[encoded data removed]",
      "text/plain": [
       "<Figure size 640x480 with 1 Axes>"
      ]
     },
     "metadata": {},
     "output_type": "display_data"
    }
   ],
   "source": [
    "from sklearn.decomposition import PCA\n",
    "\n",
    "# Reduce the dimensionality of X to 2 dimensions using PCA\n",
    "pca = PCA(n_components=2)\n",
    "X_pca = pca.fit_transform(X)\n",
    "\n",
    "# Define the grid range for the reduced features\n",
    "x_min, x_max = X_pca[:, 0].min() - 1, X_pca[:, 0].max() + 1\n",
    "y_min, y_max = X_pca[:, 1].min() - 1, X_pca[:, 1].max() + 1\n",
    "xx, yy = np.meshgrid(np.arange(x_min, x_max, 0.01),\n",
    "                     np.arange(y_min, y_max, 0.01))\n",
    "\n",
    "# Fit the model using the reduced features\n",
    "model7.fit(X_pca, y)\n",
    "\n",
    "# Predict the class probabilities for each point in the grid\n",
    "Z = model7.predict(np.c_[xx.ravel(), yy.ravel()])\n",
    "Z = Z.reshape(xx.shape)\n",
    "\n",
    "# Plot the decision boundary\n",
    "plt.contourf(xx, yy, Z, alpha=0.8)\n",
    "\n",
    "# Plot the training points\n",
    "plt.scatter(X_pca[:, 0], X_pca[:, 1], c=y, s=20, edgecolor='k')\n",
    "plt.xlabel('Principal Component 1')\n",
    "plt.ylabel('Principal Component 2')\n",
    "plt.title('Logistic Regression Decision Boundary (PCA)')\n",
    "plt.show()"
   ]
  },
  {
   "cell_type": "markdown",
   "metadata": {},
   "source": [
    "## SVM"
   ]
  },
  {
   "cell_type": "code",
   "execution_count": 25,
   "metadata": {},
   "outputs": [],
   "source": [
    "from sklearn.preprocessing import LabelEncoder\n",
    "\n",
    "le = LabelEncoder()\n",
    "\n",
    "iris_df['species_enc'] = le.fit_transform(iris_df['species'])\n",
    "\n",
    "\n",
    "features = ['sepal length (cm)', 'sepal width (cm)', 'petal length (cm)', 'petal width (cm)']\n",
    "target = ['species_enc']\n",
    "\n",
    "X = iris_df[features]\n",
    "y = iris_df[target]"
   ]
  },
  {
   "cell_type": "code",
   "execution_count": 26,
   "metadata": {},
   "outputs": [
    {
     "name": "stdout",
     "output_type": "stream",
     "text": [
      "model score for different kernel type - linear = 0.9821428571428571\n",
      "model score for different kernel type - poly = 0.9821428571428571\n",
      "model score for different kernel type - rbf = 0.9821428571428571\n",
      "model score for different kernel type - sigmoid = 0.375\n",
      "\n",
      "the mse for linear model is: = 0.02631578947368421 \n",
      "the accuracy score for linear model is: = 0.9736842105263158 \n",
      "\n"
     ]
    }
   ],
   "source": [
    "from sklearn import svm\n",
    "import numpy as np\n",
    "from sklearn.metrics import mean_squared_error, accuracy_score\n",
    "\n",
    "y = np.ravel(y)\n",
    "\n",
    "#Kernel = ‘linear’, \n",
    "model81 = svm.SVC(kernel='linear')\n",
    "X_train, X_test, y_train, y_test = train_test_split(X, y, train_size=0.75, random_state=4)\n",
    "model81.fit(X_train, y_train)\n",
    "scoreLinear = model81.score(X_train, y_train)\n",
    "\n",
    "#‘poly’, \n",
    "model82 = svm.SVC(kernel='poly')\n",
    "X_train, X_test, y_train, y_test = train_test_split(X, y, train_size=0.75, random_state=4)\n",
    "model82.fit(X_train, y_train)\n",
    "scorePoly = model82.score(X_train, y_train)\n",
    "\n",
    "# ‘rbf’, \n",
    "model83 = svm.SVC(kernel='rbf')\n",
    "X_train, X_test, y_train, y_test = train_test_split(X, y, train_size=0.75, random_state=4)\n",
    "model83.fit(X_train, y_train)\n",
    "scorRBF = model83.score(X_train, y_train)\n",
    "\n",
    "#‘sigmoid’, \n",
    "model84 = svm.SVC(kernel='sigmoid')\n",
    "X_train, X_test, y_train, y_test = train_test_split(X, y, train_size=0.75, random_state=4)\n",
    "model84.fit(X_train, y_train)\n",
    "scoreSigmoid = model84.score(X_train, y_train)\n",
    "\n",
    "#‘precomputed’\n",
    "#model85 = svm.SVC(kernel='precomputed')\n",
    "#X_train, X_test, y_train, y_test = train_test_split(X, y, train_size=0.75, random_state=4)\n",
    "#model85.fit(X_train, y_train)\n",
    "#scorePrecomputed = model85.score(X_train, y_train)\n",
    "\n",
    "print(\n",
    "    f\"model score for different kernel type - linear = {scoreLinear}\\n\"\n",
    "    f\"model score for different kernel type - poly = {scorePoly}\\n\"\n",
    "    f\"model score for different kernel type - rbf = {scorRBF}\\n\"\n",
    "    f\"model score for different kernel type - sigmoid = {scoreSigmoid}\\n\"\n",
    ")\n",
    "\n",
    "# since linear, poly and rbf have better and similar accuracy, we can use either one of those kernels.\n",
    "# lets train a model using linear kernel for now\n",
    "\n",
    "y_pred = model81.predict(X_test)\n",
    "\n",
    "mse81 = mean_squared_error(y_test, y_pred)\n",
    "acc81 = accuracy_score(y_test, y_pred)\n",
    "\n",
    "print(\n",
    "    f\"the mse for linear model is: = {mse81} \\n\"\n",
    "    f\"the accuracy score for linear model is: = {acc81} \\n\"\n",
    ")"
   ]
  },
  {
   "cell_type": "markdown",
   "metadata": {},
   "source": [
    "## ModelTesting"
   ]
  },
  {
   "cell_type": "code",
   "execution_count": 27,
   "metadata": {},
   "outputs": [
    {
     "name": "stdout",
     "output_type": "stream",
     "text": [
      "[2 2 2 1 2]\n"
     ]
    }
   ],
   "source": [
    "model81Test = pd.DataFrame({\n",
    "    'sepal length (cm)': ['7.2','6.9','6.4','5.5','7.4'], \n",
    "    'sepal width (cm)': ['3.2','3.1','3.1','2.5','2.8'], \n",
    "    'petal length (cm)': ['6.0','5.4','5.5','4.0','6.1'], \n",
    "    'petal width (cm)': ['1.8','2.1','1.8','1.3','1.9']\n",
    "})\n",
    "\n",
    "model81Test['sepal length (cm)'] = model81Test['sepal length (cm)'].astype(float)\n",
    "model81Test['sepal width (cm)'] = model81Test['sepal width (cm)'].astype(float)\n",
    "model81Test['petal length (cm)'] = model81Test['petal length (cm)'].astype(float)\n",
    "model81Test['petal width (cm)'] = model81Test['petal width (cm)'].astype(float)\n",
    "\n",
    "Testpred = model81.predict(model81Test)\n",
    "\n",
    "print(Testpred)"
   ]
  },
  {
   "cell_type": "markdown",
   "metadata": {},
   "source": [
    "## KNearestNeighbours"
   ]
  },
  {
   "cell_type": "code",
   "execution_count": 28,
   "metadata": {},
   "outputs": [],
   "source": [
    "from sklearn.preprocessing import LabelEncoder\n",
    "\n",
    "le = LabelEncoder()\n",
    "\n",
    "iris_df['species_enc'] = le.fit_transform(iris_df['species'])\n",
    "\n",
    "\n",
    "features = ['sepal length (cm)', 'sepal width (cm)', 'petal length (cm)', 'petal width (cm)']\n",
    "target = ['species_enc']\n",
    "\n",
    "X = iris_df[features]\n",
    "y = iris_df[target]"
   ]
  },
  {
   "cell_type": "code",
   "execution_count": 29,
   "metadata": {},
   "outputs": [
    {
     "name": "stdout",
     "output_type": "stream",
     "text": [
      "Training set accuracy: 0.9553571428571429\n",
      "Test set accuracy: 1.0\n"
     ]
    }
   ],
   "source": [
    "from sklearn.neighbors import KNeighborsClassifier\n",
    "from sklearn.model_selection import train_test_split\n",
    "from sklearn.metrics import accuracy_score\n",
    "import numpy as np\n",
    "\n",
    "y = np.ravel(y)\n",
    "\n",
    "model9 = KNeighborsClassifier()\n",
    "X_train, X_test, y_train, y_test = train_test_split(X, y, train_size=0.75, random_state=1)\n",
    "model9.fit(X_train, y_train)\n",
    "model9.score(X_train, y_train)\n",
    "\n",
    "y_pred = model9.predict(X_test)\n",
    "\n",
    "acc8 = accuracy_score(y_test, y_pred)\n",
    "\n",
    "print(f\"Training set accuracy: {model9.score(X_train, y_train)}\")\n",
    "print(f\"Test set accuracy: {acc8}\")\n"
   ]
  },
  {
   "cell_type": "markdown",
   "metadata": {},
   "source": [
    "## Infrences-KNearestNeighbours"
   ]
  },
  {
   "cell_type": "markdown",
   "metadata": {},
   "source": [
    "## ModelTesting-KNearestNeighbours"
   ]
  },
  {
   "cell_type": "code",
   "execution_count": 30,
   "metadata": {},
   "outputs": [
    {
     "name": "stdout",
     "output_type": "stream",
     "text": [
      "[2 2 2 1 2]\n"
     ]
    }
   ],
   "source": [
    "model9Test = pd.DataFrame({\n",
    "    'sepal length (cm)': ['7.2','6.9','6.4','5.5','7.4'], \n",
    "    'sepal width (cm)': ['3.2','3.1','3.1','2.5','2.8'], \n",
    "    'petal length (cm)': ['6.0','5.4','5.5','4.0','6.1'], \n",
    "    'petal width (cm)': ['1.8','2.1','1.8','1.3','1.9']\n",
    "})\n",
    "\n",
    "model9Test['sepal length (cm)'] = model9Test['sepal length (cm)'].astype(float)\n",
    "model9Test['sepal width (cm)'] = model9Test['sepal width (cm)'].astype(float)\n",
    "model9Test['petal length (cm)'] = model9Test['petal length (cm)'].astype(float)\n",
    "model9Test['petal width (cm)'] = model9Test['petal width (cm)'].astype(float)\n",
    "\n",
    "Testpred = model9.predict(model9Test)\n",
    "\n",
    "print(Testpred)"
   ]
  },
  {
   "cell_type": "markdown",
   "metadata": {},
   "source": [
    "## K-means"
   ]
  },
  {
   "cell_type": "code",
   "execution_count": 31,
   "metadata": {},
   "outputs": [],
   "source": [
    "from sklearn.preprocessing import LabelEncoder\n",
    "\n",
    "le = LabelEncoder()\n",
    "\n",
    "iris_df['species_enc'] = le.fit_transform(iris_df['species'])\n",
    "\n",
    "\n",
    "features = ['sepal length (cm)', 'sepal width (cm)', 'petal length (cm)', 'petal width (cm)']\n",
    "target = ['species_enc']\n",
    "\n",
    "X = iris_df[features]\n",
    "y = iris_df[target]"
   ]
  },
  {
   "cell_type": "code",
   "execution_count": 32,
   "metadata": {},
   "outputs": [
    {
     "data": {
      "image/png": "[encoded data removed]",
      "text/plain": [
       "<Figure size 640x480 with 1 Axes>"
      ]
     },
     "metadata": {},
     "output_type": "display_data"
    }
   ],
   "source": [
    "from sklearn.cluster import KMeans\n",
    "import numpy as np\n",
    "import matplotlib.pyplot as plt\n",
    "from sklearn.datasets import load_iris\n",
    "\n",
    "# Load Iris dataset\n",
    "iris = load_iris()\n",
    "X = iris.data\n",
    "\n",
    "# Initialize lists to store inertia values\n",
    "inertia = []\n",
    "k_values = range(1, 11)\n",
    "\n",
    "# Compute inertia for different values of K\n",
    "for k in k_values:\n",
    "    model10 = KMeans(n_clusters=k, random_state=3)\n",
    "    model10.fit(X)\n",
    "    inertia.append(model10.inertia_)\n",
    "\n",
    "# Plot inertia vs. K\n",
    "plt.plot(k_values, inertia, marker='o')\n",
    "plt.xlabel('Number of Clusters (K)')\n",
    "plt.ylabel('Inertia')\n",
    "plt.title('Elbow Plot for K-means Clustering')\n",
    "plt.xticks(k_values)\n",
    "plt.grid(True)\n",
    "plt.show()\n"
   ]
  },
  {
   "cell_type": "code",
   "execution_count": 33,
   "metadata": {},
   "outputs": [
    {
     "name": "stdout",
     "output_type": "stream",
     "text": [
      "[2 2 2 0 2]\n"
     ]
    }
   ],
   "source": [
    "model10 = KMeans(n_clusters=4, random_state=3)\n",
    "model10.fit(X)\n",
    "\n",
    "model10Test = pd.DataFrame({\n",
    "    'sepal length (cm)': ['7.2','6.9','6.4','5.5','7.4'], \n",
    "    'sepal width (cm)': ['3.2','3.1','3.1','2.5','2.8'], \n",
    "    'petal length (cm)': ['6.0','5.4','5.5','4.0','6.1'], \n",
    "    'petal width (cm)': ['1.8','2.1','1.8','1.3','1.9']\n",
    "})\n",
    "\n",
    "model10Test = model10Test.values\n",
    "\n",
    "Testpred = model10.predict(model10Test)\n",
    "\n",
    "print(Testpred)\n"
   ]
  },
  {
   "cell_type": "markdown",
   "metadata": {},
   "source": [
    "## CollaborativeFiletering"
   ]
  },
  {
   "cell_type": "code",
   "execution_count": 34,
   "metadata": {},
   "outputs": [
    {
     "name": "stdout",
     "output_type": "stream",
     "text": [
      "Requirement already satisfied: pip in /Library/Frameworks/Python.framework/Versions/3.11/lib/python3.11/site-packages (24.0)\n",
      "Requirement already satisfied: setuptools in /Library/Frameworks/Python.framework/Versions/3.11/lib/python3.11/site-packages (69.0.3)\n",
      "Requirement already satisfied: wheel in /Library/Frameworks/Python.framework/Versions/3.11/lib/python3.11/site-packages (0.42.0)\n",
      "Requirement already satisfied: scikit-surprise in /Library/Frameworks/Python.framework/Versions/3.11/lib/python3.11/site-packages (1.1.3)\n",
      "Requirement already satisfied: joblib>=1.0.0 in /Library/Frameworks/Python.framework/Versions/3.11/lib/python3.11/site-packages (from scikit-surprise) (1.3.2)\n",
      "Requirement already satisfied: numpy>=1.17.3 in /Library/Frameworks/Python.framework/Versions/3.11/lib/python3.11/site-packages (from scikit-surprise) (1.26.3)\n",
      "Requirement already satisfied: scipy>=1.3.2 in /Library/Frameworks/Python.framework/Versions/3.11/lib/python3.11/site-packages (from scikit-surprise) (1.12.0)\n"
     ]
    }
   ],
   "source": [
    "!pip3 install --upgrade pip setuptools wheel\n",
    "!pip3 install --no-use-pep517 scikit-surprise"
   ]
  },
  {
   "cell_type": "code",
   "execution_count": 35,
   "metadata": {},
   "outputs": [
    {
     "name": "stdout",
     "output_type": "stream",
     "text": [
      "RMSE: 0.9369\n"
     ]
    },
    {
     "data": {
      "text/plain": [
       "0.9369287423944359"
      ]
     },
     "execution_count": 35,
     "metadata": {},
     "output_type": "execute_result"
    }
   ],
   "source": [
    "from surprise import Dataset, Reader\n",
    "from surprise.model_selection import train_test_split\n",
    "from surprise import SVD\n",
    "from surprise import accuracy\n",
    "\n",
    "# Load the dataset\n",
    "reader = Reader(rating_scale=(1, 5))\n",
    "data = Dataset.load_builtin('ml-100k', reader)\n",
    "\n",
    "# Split the dataset into train and test sets\n",
    "trainset, testset = train_test_split(data, test_size=0.25)\n",
    "\n",
    "# Choose the algorithm (SVD) and train the model\n",
    "algo = SVD()\n",
    "algo.fit(trainset)\n",
    "\n",
    "# Make predictions on the test set\n",
    "predictions = algo.test(testset)\n",
    "\n",
    "# Evaluate the model\n",
    "accuracy.rmse(predictions)\n"
   ]
  }
 ],
 "metadata": {
  "kernelspec": {
   "display_name": "Python 3",
   "language": "python",
   "name": "python3"
  },
  "language_info": {
   "codemirror_mode": {
    "name": "ipython",
    "version": 3
   },
   "file_extension": ".py",
   "mimetype": "text/x-python",
   "name": "python",
   "nbconvert_exporter": "python",
   "pygments_lexer": "ipython3",
   "version": "3.11.4"
  }
 },
 "nbformat": 4,
 "nbformat_minor": 2
}
